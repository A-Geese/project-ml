{
 "cells": [
  {
   "cell_type": "code",
   "execution_count": 17,
   "id": "237adbc8-5143-4a85-8a6e-91c5de79921b",
   "metadata": {},
   "outputs": [],
   "source": [
    "from selenium import webdriver\n",
    "from selenium.webdriver.common.by import By\n",
    "from selenium.webdriver.support.ui import WebDriverWait\n",
    "from selenium.webdriver.support import expected_conditions as EC\n",
    "import time"
   ]
  },
  {
   "cell_type": "code",
   "execution_count": 3,
   "id": "7191c2ef-59de-4267-9504-1ac7b56d5a24",
   "metadata": {},
   "outputs": [],
   "source": [
    "root = \"https://www.ola.org/en/members/current\""
   ]
  },
  {
   "cell_type": "code",
   "execution_count": 93,
   "id": "1df65696-426c-496c-b722-d02e52d6e456",
   "metadata": {},
   "outputs": [],
   "source": [
    "driver = webdriver.Chrome()"
   ]
  },
  {
   "cell_type": "code",
   "execution_count": 15,
   "id": "96ae2ab3-a5e9-40ea-a9bc-652b0bc3598d",
   "metadata": {},
   "outputs": [],
   "source": [
    "driver.get(root)\n",
    "        \n",
    "# Wait for the div to be present\n",
    "div_class = \"member-list-row col-sm-12 col-md-12 col-lg-6 grid-view\"\n",
    "# div_class = \"member-list-row col-sm-12 col-md-12 col-lg-6 grid-view\"\n",
    "wait = WebDriverWait(driver, 10)\n",
    "div = wait.until(EC.presence_of_all_elements_located((By.CLASS_NAME, div_class.replace(\" \", \".\"))))\n",
    "\n",
    "# Find all anchor tags within the div\n",
    "links = [x.find_element(By.TAG_NAME, \"a\") for x in div]\n",
    "\n",
    "# Extract href attributes\n",
    "hrefs = [link.get_attribute('href') for link in links]"
   ]
  },
  {
   "cell_type": "code",
   "execution_count": 52,
   "id": "55b0fa00-606a-4b71-9c74-55992b9d0a09",
   "metadata": {},
   "outputs": [],
   "source": [
    "# get bills and motion hrefs\n",
    "data = []\n",
    "for href in hrefs:\n",
    "    driver.get(f\"{href}/activity\")\n",
    "    time.sleep(0.5)\n",
    "    buttons = driver.find_elements(By.XPATH, \"//div[@class='row']/div[@role='tablist']\")\n",
    "    buttons[0].click()\n",
    "    buttons[1].click()\n",
    "\n",
    "    bills_and_motions = driver.find_elements(By.XPATH, \"//span[@class='field-content']/a\")\n",
    "    bills = {'bill_name': [], 'bill_href': []}\n",
    "    motions = {'motion_name': [], 'motion_href': []}\n",
    "    for elem in bills_and_motions:\n",
    "        inner_text = elem.get_attribute('innerText')\n",
    "        if inner_text.startswith(\"Bill\"):\n",
    "            href = elem.get_attribute('href')\n",
    "            bills['bill_name'].append(inner_text)\n",
    "            bills['bill_href'].append(href)\n",
    "        elif inner_text.startswith(\"Motion\"):\n",
    "            href = elem.get_attribute('href')\n",
    "            motions['motion_name'].append(inner_text)\n",
    "            motions['motion_href'].append(href)\n",
    "    data.append({'bills': bills, 'motions': motions})"
   ]
  },
  {
   "cell_type": "code",
   "execution_count": 74,
   "id": "fc37c8c5-7453-407a-b580-4025bfe890ea",
   "metadata": {},
   "outputs": [],
   "source": [
    "## Get roles and names:\n",
    "data2 = []\n",
    "for href in hrefs:\n",
    "    name = href.split('/')[-1].strip().replace('-', ' ')\n",
    "    driver.get(href)\n",
    "    time.sleep(0.5)\n",
    "\n",
    "    # role_class = \"view view-member view-id-member view-display-id-member_current_role_block js-view-dom-id-cb73e91df8d278d984d19d5169dbc58f006d1bf565d64f0bc08844f7167eb48a\"\n",
    "    # role = driver.find_element(By.XPATH, f\"//div[@class='{role_class}']/div[@class='view-content']\").get_attribute('innerText')\n",
    "    try:\n",
    "        role = driver.find_element(By.XPATH, \"//div[@block='block-views-block-member-member-current-role-block']\").get_attribute('innerText').strip('Current roles\\n')\n",
    "    except:\n",
    "        role = \"\"\n",
    "\n",
    "    try:\n",
    "        location = driver.find_element(By.XPATH, \"//p[@class='riding']\").get_attribute('innerText')\n",
    "    except:\n",
    "        location = \"\"\n",
    "\n",
    "    try:\n",
    "        party = driver.find_element(By.XPATH, \"//div[@class='colour-square']/..\").get_attribute('innerText').strip()\n",
    "    except:\n",
    "        party = \"\"\n",
    "    data2.append({'name': name, 'role': role, 'location': location, 'party': party})"
   ]
  },
  {
   "cell_type": "code",
   "execution_count": 80,
   "id": "771371a2-5911-4855-b38f-6abf4da990c1",
   "metadata": {},
   "outputs": [],
   "source": [
    "# join\n",
    "joined_data = []\n",
    "for d1, d2 in zip(data, data2):\n",
    "    d3 = d2 | d1\n",
    "    joined_data.append(d3)"
   ]
  },
  {
   "cell_type": "code",
   "execution_count": 89,
   "id": "928db304-5d06-46ab-8324-554ca27697b8",
   "metadata": {},
   "outputs": [],
   "source": [
    "# get bill details\n",
    "for x in joined_data:\n",
    "    bill_hrefs = x['bills']['bill_href']\n",
    "    explanatory_notes = []\n",
    "    for href in bill_hrefs:\n",
    "        driver.get(href)\n",
    "        time.sleep(0.5)\n",
    "        try:\n",
    "            explanatory_note = driver.find_element(By.XPATH, \"//div[@class='WordSection1']/p[@class='section']\").get_attribute('innerText')\n",
    "        except:\n",
    "            explanatory_note = \"\"\n",
    "        explanatory_notes.append(explanatory_note)\n",
    "    x['bills']['explanatory_notes'] = explanatory_notes"
   ]
  },
  {
   "cell_type": "code",
   "execution_count": 115,
   "id": "b893ae8d-787b-47a9-8609-94272a0b61d3",
   "metadata": {},
   "outputs": [],
   "source": [
    "# add motion details\n",
    "for x in joined_data:\n",
    "    motion_hrefs = x['motions']['motion_href']\n",
    "    motion_names = x['motions']['motion_name']\n",
    "    motion_detailed = []\n",
    "    for motion_name, motion_href in zip(motion_names, motion_hrefs):\n",
    "        driver.get(motion_href)\n",
    "        time.sleep(0.5)\n",
    "        h3_elements = driver.find_elements(By.TAG_NAME, \"h3\")\n",
    "        motion_detail = \"\"\n",
    "        for h3 in h3_elements:\n",
    "            if \"Motion 47\" in h3.text.strip():\n",
    "                try:\n",
    "                    motion_detail = h3.find_element(By.XPATH, \"../div\").get_attribute('innerText')\n",
    "                    past = True\n",
    "                except:\n",
    "                    motion_detail = \"\"\n",
    "        motion_detailed.append(motion_detail)\n",
    "    x['motions']['motion_details'] = motion_detailed"
   ]
  },
  {
   "cell_type": "code",
   "execution_count": 118,
   "id": "66bb03ee-bd1c-41a2-933a-10cc8f728f5e",
   "metadata": {},
   "outputs": [],
   "source": [
    "# save into individual dfs\n",
    "mpps = []\n",
    "all_bills = []\n",
    "all_motions = []"
   ]
  },
  {
   "cell_type": "code",
   "execution_count": 120,
   "id": "04e4815c-775f-4b62-885f-97aa15f5aee5",
   "metadata": {},
   "outputs": [],
   "source": [
    "for idx, x in enumerate(joined_data):\n",
    "    mpps.append({'_id': idx, 'name': x['name'],\n",
    "                 'role': x['role'],\n",
    "                 'location': x['location'],\n",
    "                 'party': x['party']\n",
    "    })\n",
    "    bills = x['bills']\n",
    "    motions = x['motions']\n",
    "\n",
    "    bills['mpp_id'] = [idx] * len(bills['bill_name'])\n",
    "    motions['mpp_id'] = [idx] * len(motions['motion_name'])\n",
    "    # flatten dict\n",
    "    for idx in range(len(bills['mpp_id'])):\n",
    "        all_bills.append({'mpp_id': bills['mpp_id'][idx], \n",
    "                          'bill_name': bills['bill_name'][idx], \n",
    "                          'explanatory_notes': bills['explanatory_notes'][idx]\n",
    "                         })\n",
    "    for idx in range(len(motions['mpp_id'])):\n",
    "        all_motions.append({'mpp_id': motions['mpp_id'][idx], \n",
    "                          'motion_name': motions['motion_name'][idx], \n",
    "                          'motion_href': motions['motion_href'][idx]\n",
    "                         })"
   ]
  },
  {
   "cell_type": "code",
   "execution_count": 131,
   "id": "e729e3c8-faee-498a-886c-a2b8494b2c14",
   "metadata": {},
   "outputs": [],
   "source": [
    "pd.DataFrame(all_motions).to_csv('motions.csv', index=False)\n",
    "pd.DataFrame(all_bills).to_csv('bills.csv', index=False)\n",
    "pd.DataFrame(mpps).to_csv('mpps.csv', index=False)"
   ]
  }
 ],
 "metadata": {
  "kernelspec": {
   "display_name": "webscrape",
   "language": "python",
   "name": "myenv"
  },
  "language_info": {
   "codemirror_mode": {
    "name": "ipython",
    "version": 3
   },
   "file_extension": ".py",
   "mimetype": "text/x-python",
   "name": "python",
   "nbconvert_exporter": "python",
   "pygments_lexer": "ipython3",
   "version": "3.10.12"
  }
 },
 "nbformat": 4,
 "nbformat_minor": 5
}
